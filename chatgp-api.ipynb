{
 "cells": [
  {
   "cell_type": "code",
   "execution_count": 1,
   "id": "68f31a50",
   "metadata": {},
   "outputs": [
    {
     "name": "stdout",
     "output_type": "stream",
     "text": [
      "Collecting openapi\n",
      "  Downloading openapi-1.1.0.tar.gz (12 kB)\n",
      "  Preparing metadata (setup.py) ... \u001b[?25ldone\n",
      "\u001b[?25hCollecting inflection>=0.3.1\n",
      "  Downloading inflection-0.5.1-py2.py3-none-any.whl (9.5 kB)\n",
      "Requirement already satisfied: jsonschema>=2.6.0 in /home/lappy/anaconda3/envs/ml/lib/python3.9/site-packages (from openapi) (4.17.3)\n",
      "Requirement already satisfied: attrs>=17.4.0 in /home/lappy/anaconda3/envs/ml/lib/python3.9/site-packages (from jsonschema>=2.6.0->openapi) (22.1.0)\n",
      "Requirement already satisfied: pyrsistent!=0.17.0,!=0.17.1,!=0.17.2,>=0.14.0 in /home/lappy/anaconda3/envs/ml/lib/python3.9/site-packages (from jsonschema>=2.6.0->openapi) (0.18.0)\n",
      "Building wheels for collected packages: openapi\n",
      "  Building wheel for openapi (setup.py) ... \u001b[?25ldone\n",
      "\u001b[?25h  Created wheel for openapi: filename=openapi-1.1.0-py3-none-any.whl size=12690 sha256=08b7917b313345c5d77c34869d3931f16e484c267b86c99c3c7d966ad2eda9a7\n",
      "  Stored in directory: /home/lappy/.cache/pip/wheels/a1/4c/59/b042cf4725c26543066bddc286c529dc44139abe214e55574d\n",
      "Successfully built openapi\n",
      "Installing collected packages: inflection, openapi\n",
      "Successfully installed inflection-0.5.1 openapi-1.1.0\n"
     ]
    }
   ],
   "source": [
    "!pip install openapi"
   ]
  },
  {
   "cell_type": "code",
   "execution_count": 24,
   "id": "2f599320",
   "metadata": {},
   "outputs": [
    {
     "name": "stdout",
     "output_type": "stream",
     "text": [
      "Collecting gradio\n",
      "  Downloading gradio-3.34.0-py3-none-any.whl (20.0 MB)\n",
      "\u001b[2K     \u001b[38;2;114;156;31m━━━━━━━━━━━━━━━━━━━━━━━━━━━━━━━━━━━━━━━━\u001b[0m \u001b[32m20.0/20.0 MB\u001b[0m \u001b[31m6.8 MB/s\u001b[0m eta \u001b[36m0:00:00\u001b[0mm eta \u001b[36m0:00:01\u001b[0m[36m0:00:01\u001b[0m\n",
      "\u001b[?25hCollecting pydantic\n",
      "  Downloading pydantic-1.10.9-cp39-cp39-manylinux_2_17_x86_64.manylinux2014_x86_64.whl (3.2 MB)\n",
      "\u001b[2K     \u001b[38;2;114;156;31m━━━━━━━━━━━━━━━━━━━━━━━━━━━━━━━━━━━━━━━━\u001b[0m \u001b[32m3.2/3.2 MB\u001b[0m \u001b[31m6.9 MB/s\u001b[0m eta \u001b[36m0:00:00\u001b[0mm eta \u001b[36m0:00:01\u001b[0m0:01\u001b[0m:01\u001b[0m\n",
      "\u001b[?25hCollecting markdown-it-py[linkify]>=2.0.0\n",
      "  Downloading markdown_it_py-3.0.0-py3-none-any.whl (87 kB)\n",
      "\u001b[2K     \u001b[38;2;114;156;31m━━━━━━━━━━━━━━━━━━━━━━━━━━━━━━━━━━━━━━━━\u001b[0m \u001b[32m87.5/87.5 kB\u001b[0m \u001b[31m8.1 MB/s\u001b[0m eta \u001b[36m0:00:00\u001b[0m\n",
      "\u001b[?25hCollecting pydub\n",
      "  Downloading pydub-0.25.1-py2.py3-none-any.whl (32 kB)\n",
      "Collecting huggingface-hub>=0.14.0\n",
      "  Downloading huggingface_hub-0.15.1-py3-none-any.whl (236 kB)\n",
      "\u001b[2K     \u001b[38;2;114;156;31m━━━━━━━━━━━━━━━━━━━━━━━━━━━━━━━━━━━━━━━\u001b[0m \u001b[32m236.8/236.8 kB\u001b[0m \u001b[31m9.6 MB/s\u001b[0m eta \u001b[36m0:00:00\u001b[0m\n",
      "\u001b[?25hCollecting orjson\n",
      "  Downloading orjson-3.9.1-cp39-cp39-manylinux_2_17_x86_64.manylinux2014_x86_64.whl (136 kB)\n",
      "\u001b[2K     \u001b[38;2;114;156;31m━━━━━━━━━━━━━━━━━━━━━━━━━━━━━━━━━━━━━━\u001b[0m \u001b[32m136.9/136.9 kB\u001b[0m \u001b[31m16.2 MB/s\u001b[0m eta \u001b[36m0:00:00\u001b[0m\n",
      "\u001b[?25hRequirement already satisfied: pandas in /home/lappy/anaconda3/envs/ml/lib/python3.9/site-packages (from gradio) (2.0.2)\n",
      "Collecting semantic-version\n",
      "  Downloading semantic_version-2.10.0-py2.py3-none-any.whl (15 kB)\n",
      "Requirement already satisfied: pygments>=2.12.0 in /home/lappy/anaconda3/envs/ml/lib/python3.9/site-packages (from gradio) (2.15.1)\n",
      "Requirement already satisfied: aiohttp in /home/lappy/anaconda3/envs/ml/lib/python3.9/site-packages (from gradio) (3.8.4)\n",
      "Collecting httpx\n",
      "  Downloading httpx-0.24.1-py3-none-any.whl (75 kB)\n",
      "\u001b[2K     \u001b[38;2;114;156;31m━━━━━━━━━━━━━━━━━━━━━━━━━━━━━━━━━━━━━━━━\u001b[0m \u001b[32m75.4/75.4 kB\u001b[0m \u001b[31m8.1 MB/s\u001b[0m eta \u001b[36m0:00:00\u001b[0m\n",
      "\u001b[?25hCollecting python-multipart\n",
      "  Downloading python_multipart-0.0.6-py3-none-any.whl (45 kB)\n",
      "\u001b[2K     \u001b[38;2;114;156;31m━━━━━━━━━━━━━━━━━━━━━━━━━━━━━━━━━━━━━━━━\u001b[0m \u001b[32m45.7/45.7 kB\u001b[0m \u001b[31m8.3 MB/s\u001b[0m eta \u001b[36m0:00:00\u001b[0m\n",
      "\u001b[?25hRequirement already satisfied: pillow in /home/lappy/anaconda3/envs/ml/lib/python3.9/site-packages (from gradio) (9.5.0)\n",
      "Collecting fastapi\n",
      "  Downloading fastapi-0.96.1-py3-none-any.whl (57 kB)\n",
      "\u001b[2K     \u001b[38;2;114;156;31m━━━━━━━━━━━━━━━━━━━━━━━━━━━━━━━━━━━━━━━━\u001b[0m \u001b[32m57.1/57.1 kB\u001b[0m \u001b[31m7.8 MB/s\u001b[0m eta \u001b[36m0:00:00\u001b[0m\n",
      "\u001b[?25hCollecting aiofiles\n",
      "  Downloading aiofiles-23.1.0-py3-none-any.whl (14 kB)\n",
      "Requirement already satisfied: requests in /home/lappy/anaconda3/envs/ml/lib/python3.9/site-packages (from gradio) (2.29.0)\n",
      "Requirement already satisfied: numpy in /home/lappy/anaconda3/envs/ml/lib/python3.9/site-packages (from gradio) (1.24.3)\n",
      "Collecting gradio-client>=0.2.6\n",
      "  Downloading gradio_client-0.2.6-py3-none-any.whl (288 kB)\n",
      "\u001b[2K     \u001b[38;2;114;156;31m━━━━━━━━━━━━━━━━━━━━━━━━━━━━━━━━━━━━━━━\u001b[0m \u001b[32m288.3/288.3 kB\u001b[0m \u001b[31m7.8 MB/s\u001b[0m eta \u001b[36m0:00:00\u001b[0m[31m8.1 MB/s\u001b[0m eta \u001b[36m0:00:01\u001b[0m\n",
      "\u001b[?25hCollecting ffmpy\n",
      "  Downloading ffmpy-0.3.0.tar.gz (4.8 kB)\n",
      "  Preparing metadata (setup.py) ... \u001b[?25ldone\n",
      "\u001b[?25hCollecting websockets>=10.0\n",
      "  Downloading websockets-11.0.3-cp39-cp39-manylinux_2_5_x86_64.manylinux1_x86_64.manylinux_2_17_x86_64.manylinux2014_x86_64.whl (129 kB)\n",
      "\u001b[2K     \u001b[38;2;114;156;31m━━━━━━━━━━━━━━━━━━━━━━━━━━━━━━━━━━━━━━━\u001b[0m \u001b[32m129.7/129.7 kB\u001b[0m \u001b[31m2.7 MB/s\u001b[0m eta \u001b[36m0:00:00\u001b[0m31m14.1 MB/s\u001b[0m eta \u001b[36m0:00:01\u001b[0m\n",
      "\u001b[?25hRequirement already satisfied: markupsafe in /home/lappy/anaconda3/envs/ml/lib/python3.9/site-packages (from gradio) (2.1.1)\n",
      "Requirement already satisfied: jinja2 in /home/lappy/anaconda3/envs/ml/lib/python3.9/site-packages (from gradio) (3.1.2)\n",
      "Collecting mdit-py-plugins<=0.3.3\n",
      "  Downloading mdit_py_plugins-0.3.3-py3-none-any.whl (50 kB)\n",
      "\u001b[2K     \u001b[38;2;114;156;31m━━━━━━━━━━━━━━━━━━━━━━━━━━━━━━━━━━━━━━━━\u001b[0m \u001b[32m50.5/50.5 kB\u001b[0m \u001b[31m18.6 MB/s\u001b[0m eta \u001b[36m0:00:00\u001b[0m\n",
      "\u001b[?25hRequirement already satisfied: typing-extensions in /home/lappy/anaconda3/envs/ml/lib/python3.9/site-packages (from gradio) (4.5.0)\n",
      "Collecting altair>=4.2.0\n",
      "  Downloading altair-5.0.1-py3-none-any.whl (471 kB)\n",
      "\u001b[2K     \u001b[38;2;114;156;31m━━━━━━━━━━━━━━━━━━━━━━━━━━━━━━━━━━━━━━━\u001b[0m \u001b[32m471.5/471.5 kB\u001b[0m \u001b[31m9.4 MB/s\u001b[0m eta \u001b[36m0:00:00\u001b[0m MB/s\u001b[0m eta \u001b[36m0:00:01\u001b[0m\n",
      "\u001b[?25hRequirement already satisfied: matplotlib in /home/lappy/anaconda3/envs/ml/lib/python3.9/site-packages (from gradio) (3.7.1)\n",
      "Collecting pyyaml\n",
      "  Downloading PyYAML-6.0-cp39-cp39-manylinux_2_5_x86_64.manylinux1_x86_64.manylinux_2_12_x86_64.manylinux2010_x86_64.whl (661 kB)\n",
      "\u001b[2K     \u001b[38;2;114;156;31m━━━━━━━━━━━━━━━━━━━━━━━━━━━━━━━━━━━━━━━\u001b[0m \u001b[32m661.8/661.8 kB\u001b[0m \u001b[31m9.0 MB/s\u001b[0m eta \u001b[36m0:00:00\u001b[0mm eta \u001b[36m0:00:01\u001b[0m[36m0:00:01\u001b[0m\n",
      "\u001b[?25hCollecting uvicorn>=0.14.0\n",
      "  Downloading uvicorn-0.22.0-py3-none-any.whl (58 kB)\n",
      "\u001b[2K     \u001b[38;2;114;156;31m━━━━━━━━━━━━━━━━━━━━━━━━━━━━━━━━━━━━━━━━\u001b[0m \u001b[32m58.3/58.3 kB\u001b[0m \u001b[31m16.0 MB/s\u001b[0m eta \u001b[36m0:00:00\u001b[0m\n",
      "\u001b[?25hRequirement already satisfied: jsonschema>=3.0 in /home/lappy/anaconda3/envs/ml/lib/python3.9/site-packages (from altair>=4.2.0->gradio) (4.17.3)\n",
      "Collecting toolz\n",
      "  Downloading toolz-0.12.0-py3-none-any.whl (55 kB)\n",
      "\u001b[2K     \u001b[38;2;114;156;31m━━━━━━━━━━━━━━━━━━━━━━━━━━━━━━━━━━━━━━━━\u001b[0m \u001b[32m55.8/55.8 kB\u001b[0m \u001b[31m20.7 MB/s\u001b[0m eta \u001b[36m0:00:00\u001b[0m\n",
      "\u001b[?25hRequirement already satisfied: packaging in /home/lappy/anaconda3/envs/ml/lib/python3.9/site-packages (from gradio-client>=0.2.6->gradio) (23.0)\n",
      "Collecting fsspec\n",
      "  Downloading fsspec-2023.6.0-py3-none-any.whl (163 kB)\n",
      "\u001b[2K     \u001b[38;2;114;156;31m━━━━━━━━━━━━━━━━━━━━━━━━━━━━━━━━━━━━━━\u001b[0m \u001b[32m163.8/163.8 kB\u001b[0m \u001b[31m10.1 MB/s\u001b[0m eta \u001b[36m0:00:00\u001b[0m\n",
      "\u001b[?25hCollecting filelock\n",
      "  Downloading filelock-3.12.1-py3-none-any.whl (10 kB)\n",
      "Requirement already satisfied: tqdm>=4.42.1 in /home/lappy/anaconda3/envs/ml/lib/python3.9/site-packages (from huggingface-hub>=0.14.0->gradio) (4.65.0)\n",
      "Collecting mdurl~=0.1\n",
      "  Downloading mdurl-0.1.2-py3-none-any.whl (10.0 kB)\n",
      "Collecting linkify-it-py<3,>=1\n",
      "  Downloading linkify_it_py-2.0.2-py3-none-any.whl (19 kB)\n",
      "Collecting mdit-py-plugins<=0.3.3\n",
      "  Downloading mdit_py_plugins-0.3.2-py3-none-any.whl (50 kB)\n",
      "\u001b[2K     \u001b[38;2;114;156;31m━━━━━━━━━━━━━━━━━━━━━━━━━━━━━━━━━━━━━━━━\u001b[0m \u001b[32m50.4/50.4 kB\u001b[0m \u001b[31m11.5 MB/s\u001b[0m eta \u001b[36m0:00:00\u001b[0m\n",
      "\u001b[?25h  Downloading mdit_py_plugins-0.3.1-py3-none-any.whl (46 kB)\n",
      "\u001b[2K     \u001b[38;2;114;156;31m━━━━━━━━━━━━━━━━━━━━━━━━━━━━━━━━━━━━━━━━\u001b[0m \u001b[32m46.5/46.5 kB\u001b[0m \u001b[31m5.4 MB/s\u001b[0m eta \u001b[36m0:00:00\u001b[0m\n",
      "\u001b[?25h  Downloading mdit_py_plugins-0.3.0-py3-none-any.whl (43 kB)\n",
      "\u001b[2K     \u001b[38;2;114;156;31m━━━━━━━━━━━━━━━━━━━━━━━━━━━━━━━━━━━━━━━━\u001b[0m \u001b[32m43.7/43.7 kB\u001b[0m \u001b[31m4.2 MB/s\u001b[0m eta \u001b[36m0:00:00\u001b[0m\n",
      "\u001b[?25h  Downloading mdit_py_plugins-0.2.8-py3-none-any.whl (41 kB)\n",
      "\u001b[2K     \u001b[38;2;114;156;31m━━━━━━━━━━━━━━━━━━━━━━━━━━━━━━━━━━━━━━━━\u001b[0m \u001b[32m41.0/41.0 kB\u001b[0m \u001b[31m9.6 MB/s\u001b[0m eta \u001b[36m0:00:00\u001b[0m\n",
      "\u001b[?25h  Downloading mdit_py_plugins-0.2.7-py3-none-any.whl (41 kB)\n",
      "\u001b[2K     \u001b[38;2;114;156;31m━━━━━━━━━━━━━━━━━━━━━━━━━━━━━━━━━━━━━━━━\u001b[0m \u001b[32m41.0/41.0 kB\u001b[0m \u001b[31m8.4 MB/s\u001b[0m eta \u001b[36m0:00:00\u001b[0m\n",
      "\u001b[?25h  Downloading mdit_py_plugins-0.2.6-py3-none-any.whl (39 kB)\n",
      "  Downloading mdit_py_plugins-0.2.5-py3-none-any.whl (39 kB)\n",
      "  Downloading mdit_py_plugins-0.2.4-py3-none-any.whl (39 kB)\n",
      "  Downloading mdit_py_plugins-0.2.3-py3-none-any.whl (39 kB)\n",
      "  Downloading mdit_py_plugins-0.2.2-py3-none-any.whl (39 kB)\n",
      "  Downloading mdit_py_plugins-0.2.1-py3-none-any.whl (38 kB)\n",
      "  Downloading mdit_py_plugins-0.2.0-py3-none-any.whl (38 kB)\n",
      "  Downloading mdit_py_plugins-0.1.0-py3-none-any.whl (37 kB)\n",
      "INFO: pip is looking at multiple versions of markdown-it-py[linkify] to determine which version is compatible with other requirements. This could take a while.\n",
      "Collecting markdown-it-py[linkify]>=2.0.0\n",
      "  Downloading markdown_it_py-2.2.0-py3-none-any.whl (84 kB)\n",
      "\u001b[2K     \u001b[38;2;114;156;31m━━━━━━━━━━━━━━━━━━━━━━━━━━━━━━━━━━━━━━━━\u001b[0m \u001b[32m84.5/84.5 kB\u001b[0m \u001b[31m8.7 MB/s\u001b[0m eta \u001b[36m0:00:00\u001b[0m\n",
      "\u001b[?25hRequirement already satisfied: tzdata>=2022.1 in /home/lappy/anaconda3/envs/ml/lib/python3.9/site-packages (from pandas->gradio) (2023.3)\n",
      "Requirement already satisfied: pytz>=2020.1 in /home/lappy/anaconda3/envs/ml/lib/python3.9/site-packages (from pandas->gradio) (2022.7)\n",
      "Requirement already satisfied: python-dateutil>=2.8.2 in /home/lappy/anaconda3/envs/ml/lib/python3.9/site-packages (from pandas->gradio) (2.8.2)\n"
     ]
    },
    {
     "name": "stdout",
     "output_type": "stream",
     "text": [
      "Collecting h11>=0.8\n",
      "  Downloading h11-0.14.0-py3-none-any.whl (58 kB)\n",
      "\u001b[2K     \u001b[38;2;114;156;31m━━━━━━━━━━━━━━━━━━━━━━━━━━━━━━━━━━━━━━━━\u001b[0m \u001b[32m58.3/58.3 kB\u001b[0m \u001b[31m14.4 MB/s\u001b[0m eta \u001b[36m0:00:00\u001b[0m\n",
      "\u001b[?25hCollecting click>=7.0\n",
      "  Using cached click-8.1.3-py3-none-any.whl (96 kB)\n",
      "Requirement already satisfied: aiosignal>=1.1.2 in /home/lappy/anaconda3/envs/ml/lib/python3.9/site-packages (from aiohttp->gradio) (1.3.1)\n",
      "Requirement already satisfied: yarl<2.0,>=1.0 in /home/lappy/anaconda3/envs/ml/lib/python3.9/site-packages (from aiohttp->gradio) (1.9.2)\n",
      "Requirement already satisfied: frozenlist>=1.1.1 in /home/lappy/anaconda3/envs/ml/lib/python3.9/site-packages (from aiohttp->gradio) (1.3.3)\n",
      "Requirement already satisfied: charset-normalizer<4.0,>=2.0 in /home/lappy/anaconda3/envs/ml/lib/python3.9/site-packages (from aiohttp->gradio) (2.0.4)\n",
      "Requirement already satisfied: async-timeout<5.0,>=4.0.0a3 in /home/lappy/anaconda3/envs/ml/lib/python3.9/site-packages (from aiohttp->gradio) (4.0.2)\n",
      "Requirement already satisfied: attrs>=17.3.0 in /home/lappy/anaconda3/envs/ml/lib/python3.9/site-packages (from aiohttp->gradio) (22.1.0)\n",
      "Requirement already satisfied: multidict<7.0,>=4.5 in /home/lappy/anaconda3/envs/ml/lib/python3.9/site-packages (from aiohttp->gradio) (6.0.4)\n",
      "Collecting starlette<0.28.0,>=0.27.0\n",
      "  Downloading starlette-0.27.0-py3-none-any.whl (66 kB)\n",
      "\u001b[2K     \u001b[38;2;114;156;31m━━━━━━━━━━━━━━━━━━━━━━━━━━━━━━━━━━━━━━━━\u001b[0m \u001b[32m67.0/67.0 kB\u001b[0m \u001b[31m5.6 MB/s\u001b[0m eta \u001b[36m0:00:00\u001b[0m\n",
      "\u001b[?25hRequirement already satisfied: certifi in /home/lappy/anaconda3/envs/ml/lib/python3.9/site-packages (from httpx->gradio) (2023.5.7)\n",
      "Collecting httpcore<0.18.0,>=0.15.0\n",
      "  Downloading httpcore-0.17.2-py3-none-any.whl (72 kB)\n",
      "\u001b[2K     \u001b[38;2;114;156;31m━━━━━━━━━━━━━━━━━━━━━━━━━━━━━━━━━━━━━━━━\u001b[0m \u001b[32m72.5/72.5 kB\u001b[0m \u001b[31m8.6 MB/s\u001b[0m eta \u001b[36m0:00:00\u001b[0m\n",
      "\u001b[?25hRequirement already satisfied: sniffio in /home/lappy/anaconda3/envs/ml/lib/python3.9/site-packages (from httpx->gradio) (1.2.0)\n",
      "Requirement already satisfied: idna in /home/lappy/anaconda3/envs/ml/lib/python3.9/site-packages (from httpx->gradio) (3.4)\n",
      "Requirement already satisfied: kiwisolver>=1.0.1 in /home/lappy/anaconda3/envs/ml/lib/python3.9/site-packages (from matplotlib->gradio) (1.4.4)\n",
      "Requirement already satisfied: pyparsing>=2.3.1 in /home/lappy/anaconda3/envs/ml/lib/python3.9/site-packages (from matplotlib->gradio) (3.0.9)\n",
      "Requirement already satisfied: fonttools>=4.22.0 in /home/lappy/anaconda3/envs/ml/lib/python3.9/site-packages (from matplotlib->gradio) (4.39.4)\n",
      "Requirement already satisfied: importlib-resources>=3.2.0 in /home/lappy/anaconda3/envs/ml/lib/python3.9/site-packages (from matplotlib->gradio) (5.12.0)\n",
      "Requirement already satisfied: contourpy>=1.0.1 in /home/lappy/anaconda3/envs/ml/lib/python3.9/site-packages (from matplotlib->gradio) (1.0.7)\n",
      "Requirement already satisfied: cycler>=0.10 in /home/lappy/anaconda3/envs/ml/lib/python3.9/site-packages (from matplotlib->gradio) (0.11.0)\n",
      "Requirement already satisfied: urllib3<1.27,>=1.21.1 in /home/lappy/anaconda3/envs/ml/lib/python3.9/site-packages (from requests->gradio) (1.26.15)\n",
      "Requirement already satisfied: anyio<5.0,>=3.0 in /home/lappy/anaconda3/envs/ml/lib/python3.9/site-packages (from httpcore<0.18.0,>=0.15.0->httpx->gradio) (3.5.0)\n",
      "Requirement already satisfied: zipp>=3.1.0 in /home/lappy/anaconda3/envs/ml/lib/python3.9/site-packages (from importlib-resources>=3.2.0->matplotlib->gradio) (3.11.0)\n",
      "Requirement already satisfied: pyrsistent!=0.17.0,!=0.17.1,!=0.17.2,>=0.14.0 in /home/lappy/anaconda3/envs/ml/lib/python3.9/site-packages (from jsonschema>=3.0->altair>=4.2.0->gradio) (0.18.0)\n",
      "Collecting uc-micro-py\n",
      "  Downloading uc_micro_py-1.0.2-py3-none-any.whl (6.2 kB)\n",
      "Requirement already satisfied: six>=1.5 in /home/lappy/anaconda3/envs/ml/lib/python3.9/site-packages (from python-dateutil>=2.8.2->pandas->gradio) (1.16.0)\n",
      "Building wheels for collected packages: ffmpy\n",
      "  Building wheel for ffmpy (setup.py) ... \u001b[?25ldone\n",
      "\u001b[?25h  Created wheel for ffmpy: filename=ffmpy-0.3.0-py3-none-any.whl size=4693 sha256=e2d2a4f97e8988619aa1b42e75da26aafe7f49d8e2aa5a34b6dc34f4c0df4aa9\n",
      "  Stored in directory: /home/lappy/.cache/pip/wheels/91/e2/96/f676aa08bfd789328c6576cd0f1fde4a3d686703bb0c247697\n",
      "Successfully built ffmpy\n",
      "Installing collected packages: pydub, ffmpy, websockets, uc-micro-py, toolz, semantic-version, pyyaml, python-multipart, pydantic, orjson, mdurl, h11, fsspec, filelock, click, aiofiles, uvicorn, starlette, markdown-it-py, linkify-it-py, huggingface-hub, httpcore, mdit-py-plugins, httpx, fastapi, altair, gradio-client, gradio\n",
      "Successfully installed aiofiles-23.1.0 altair-5.0.1 click-8.1.3 fastapi-0.96.1 ffmpy-0.3.0 filelock-3.12.1 fsspec-2023.6.0 gradio-3.34.0 gradio-client-0.2.6 h11-0.14.0 httpcore-0.17.2 httpx-0.24.1 huggingface-hub-0.15.1 linkify-it-py-2.0.2 markdown-it-py-2.2.0 mdit-py-plugins-0.3.3 mdurl-0.1.2 orjson-3.9.1 pydantic-1.10.9 pydub-0.25.1 python-multipart-0.0.6 pyyaml-6.0 semantic-version-2.10.0 starlette-0.27.0 toolz-0.12.0 uc-micro-py-1.0.2 uvicorn-0.22.0 websockets-11.0.3\n"
     ]
    }
   ],
   "source": [
    "!pip install gradio"
   ]
  },
  {
   "cell_type": "code",
   "execution_count": 2,
   "id": "1179b04b",
   "metadata": {},
   "outputs": [
    {
     "name": "stdout",
     "output_type": "stream",
     "text": [
      "Collecting openai\n",
      "  Downloading openai-0.27.8-py3-none-any.whl (73 kB)\n",
      "\u001b[2K     \u001b[38;2;114;156;31m━━━━━━━━━━━━━━━━━━━━━━━━━━━━━━━━━━━━━━━━\u001b[0m \u001b[32m73.6/73.6 kB\u001b[0m \u001b[31m3.9 MB/s\u001b[0m eta \u001b[36m0:00:00\u001b[0m\n",
      "\u001b[?25hCollecting tqdm\n",
      "  Using cached tqdm-4.65.0-py3-none-any.whl (77 kB)\n",
      "Collecting aiohttp\n",
      "  Downloading aiohttp-3.8.4-cp39-cp39-manylinux_2_17_x86_64.manylinux2014_x86_64.whl (1.0 MB)\n",
      "\u001b[2K     \u001b[38;2;114;156;31m━━━━━━━━━━━━━━━━━━━━━━━━━━━━━━━━━━━━━━━━\u001b[0m \u001b[32m1.0/1.0 MB\u001b[0m \u001b[31m5.6 MB/s\u001b[0m eta \u001b[36m0:00:00\u001b[0mm eta \u001b[36m0:00:01\u001b[0m0:01\u001b[0m:01\u001b[0m\n",
      "\u001b[?25hRequirement already satisfied: requests>=2.20 in /home/lappy/anaconda3/envs/ml/lib/python3.9/site-packages (from openai) (2.29.0)\n",
      "Requirement already satisfied: certifi>=2017.4.17 in /home/lappy/anaconda3/envs/ml/lib/python3.9/site-packages (from requests>=2.20->openai) (2023.5.7)\n",
      "Requirement already satisfied: idna<4,>=2.5 in /home/lappy/anaconda3/envs/ml/lib/python3.9/site-packages (from requests>=2.20->openai) (3.4)\n",
      "Requirement already satisfied: urllib3<1.27,>=1.21.1 in /home/lappy/anaconda3/envs/ml/lib/python3.9/site-packages (from requests>=2.20->openai) (1.26.15)\n",
      "Requirement already satisfied: charset-normalizer<4,>=2 in /home/lappy/anaconda3/envs/ml/lib/python3.9/site-packages (from requests>=2.20->openai) (2.0.4)\n",
      "Collecting yarl<2.0,>=1.0\n",
      "  Downloading yarl-1.9.2-cp39-cp39-manylinux_2_17_x86_64.manylinux2014_x86_64.whl (269 kB)\n",
      "\u001b[2K     \u001b[38;2;114;156;31m━━━━━━━━━━━━━━━━━━━━━━━━━━━━━━━━━━━━━━━\u001b[0m \u001b[32m269.4/269.4 kB\u001b[0m \u001b[31m1.9 MB/s\u001b[0m eta \u001b[36m0:00:00\u001b[0mm eta \u001b[36m0:00:01\u001b[0m[36m0:00:01\u001b[0m\n",
      "\u001b[?25hCollecting multidict<7.0,>=4.5\n",
      "  Downloading multidict-6.0.4-cp39-cp39-manylinux_2_17_x86_64.manylinux2014_x86_64.whl (114 kB)\n",
      "\u001b[2K     \u001b[38;2;114;156;31m━━━━━━━━━━━━━━━━━━━━━━━━━━━━━━━━━━━━━━━\u001b[0m \u001b[32m114.2/114.2 kB\u001b[0m \u001b[31m1.9 MB/s\u001b[0m eta \u001b[36m0:00:00\u001b[0m[36m0:00:01\u001b[0m\n",
      "\u001b[?25hCollecting aiosignal>=1.1.2\n",
      "  Downloading aiosignal-1.3.1-py3-none-any.whl (7.6 kB)\n",
      "Collecting frozenlist>=1.1.1\n",
      "  Downloading frozenlist-1.3.3-cp39-cp39-manylinux_2_5_x86_64.manylinux1_x86_64.manylinux_2_17_x86_64.manylinux2014_x86_64.whl (158 kB)\n",
      "\u001b[2K     \u001b[38;2;114;156;31m━━━━━━━━━━━━━━━━━━━━━━━━━━━━━━━━━━━━━━━\u001b[0m \u001b[32m158.8/158.8 kB\u001b[0m \u001b[31m7.2 MB/s\u001b[0m eta \u001b[36m0:00:00\u001b[0m\n",
      "\u001b[?25hCollecting async-timeout<5.0,>=4.0.0a3\n",
      "  Downloading async_timeout-4.0.2-py3-none-any.whl (5.8 kB)\n",
      "Requirement already satisfied: attrs>=17.3.0 in /home/lappy/anaconda3/envs/ml/lib/python3.9/site-packages (from aiohttp->openai) (22.1.0)\n",
      "Installing collected packages: tqdm, multidict, frozenlist, async-timeout, yarl, aiosignal, aiohttp, openai\n",
      "Successfully installed aiohttp-3.8.4 aiosignal-1.3.1 async-timeout-4.0.2 frozenlist-1.3.3 multidict-6.0.4 openai-0.27.8 tqdm-4.65.0 yarl-1.9.2\n"
     ]
    }
   ],
   "source": [
    "!pip install --upgrade openai\n"
   ]
  },
  {
   "cell_type": "code",
   "execution_count": 25,
   "id": "ff51649e",
   "metadata": {},
   "outputs": [
    {
     "name": "stdout",
     "output_type": "stream",
     "text": [
      "Requirement already satisfied: gradio in /home/lappy/anaconda3/envs/ml/lib/python3.9/site-packages (3.34.0)\n",
      "Requirement already satisfied: semantic-version in /home/lappy/anaconda3/envs/ml/lib/python3.9/site-packages (from gradio) (2.10.0)\n",
      "Requirement already satisfied: markupsafe in /home/lappy/anaconda3/envs/ml/lib/python3.9/site-packages (from gradio) (2.1.1)\n",
      "Requirement already satisfied: aiohttp in /home/lappy/anaconda3/envs/ml/lib/python3.9/site-packages (from gradio) (3.8.4)\n",
      "Requirement already satisfied: pygments>=2.12.0 in /home/lappy/anaconda3/envs/ml/lib/python3.9/site-packages (from gradio) (2.15.1)\n",
      "Requirement already satisfied: uvicorn>=0.14.0 in /home/lappy/anaconda3/envs/ml/lib/python3.9/site-packages (from gradio) (0.22.0)\n",
      "Requirement already satisfied: matplotlib in /home/lappy/anaconda3/envs/ml/lib/python3.9/site-packages (from gradio) (3.7.1)\n",
      "Requirement already satisfied: pillow in /home/lappy/anaconda3/envs/ml/lib/python3.9/site-packages (from gradio) (9.5.0)\n",
      "Requirement already satisfied: altair>=4.2.0 in /home/lappy/anaconda3/envs/ml/lib/python3.9/site-packages (from gradio) (5.0.1)\n",
      "Requirement already satisfied: requests in /home/lappy/anaconda3/envs/ml/lib/python3.9/site-packages (from gradio) (2.29.0)\n",
      "Requirement already satisfied: mdit-py-plugins<=0.3.3 in /home/lappy/anaconda3/envs/ml/lib/python3.9/site-packages (from gradio) (0.3.3)\n",
      "Requirement already satisfied: gradio-client>=0.2.6 in /home/lappy/anaconda3/envs/ml/lib/python3.9/site-packages (from gradio) (0.2.6)\n",
      "Requirement already satisfied: aiofiles in /home/lappy/anaconda3/envs/ml/lib/python3.9/site-packages (from gradio) (23.1.0)\n",
      "Requirement already satisfied: orjson in /home/lappy/anaconda3/envs/ml/lib/python3.9/site-packages (from gradio) (3.9.1)\n",
      "Requirement already satisfied: pandas in /home/lappy/anaconda3/envs/ml/lib/python3.9/site-packages (from gradio) (2.0.2)\n",
      "Requirement already satisfied: python-multipart in /home/lappy/anaconda3/envs/ml/lib/python3.9/site-packages (from gradio) (0.0.6)\n",
      "Requirement already satisfied: numpy in /home/lappy/anaconda3/envs/ml/lib/python3.9/site-packages (from gradio) (1.24.3)\n",
      "Requirement already satisfied: pyyaml in /home/lappy/anaconda3/envs/ml/lib/python3.9/site-packages (from gradio) (6.0)\n",
      "Requirement already satisfied: huggingface-hub>=0.14.0 in /home/lappy/anaconda3/envs/ml/lib/python3.9/site-packages (from gradio) (0.15.1)\n",
      "Requirement already satisfied: pydub in /home/lappy/anaconda3/envs/ml/lib/python3.9/site-packages (from gradio) (0.25.1)\n",
      "Requirement already satisfied: jinja2 in /home/lappy/anaconda3/envs/ml/lib/python3.9/site-packages (from gradio) (3.1.2)\n",
      "Requirement already satisfied: typing-extensions in /home/lappy/anaconda3/envs/ml/lib/python3.9/site-packages (from gradio) (4.5.0)\n",
      "Requirement already satisfied: httpx in /home/lappy/anaconda3/envs/ml/lib/python3.9/site-packages (from gradio) (0.24.1)\n",
      "Requirement already satisfied: pydantic in /home/lappy/anaconda3/envs/ml/lib/python3.9/site-packages (from gradio) (1.10.9)\n",
      "Requirement already satisfied: websockets>=10.0 in /home/lappy/anaconda3/envs/ml/lib/python3.9/site-packages (from gradio) (11.0.3)\n",
      "Requirement already satisfied: markdown-it-py[linkify]>=2.0.0 in /home/lappy/anaconda3/envs/ml/lib/python3.9/site-packages (from gradio) (2.2.0)\n",
      "Requirement already satisfied: fastapi in /home/lappy/anaconda3/envs/ml/lib/python3.9/site-packages (from gradio) (0.96.1)\n",
      "Requirement already satisfied: ffmpy in /home/lappy/anaconda3/envs/ml/lib/python3.9/site-packages (from gradio) (0.3.0)\n",
      "Requirement already satisfied: toolz in /home/lappy/anaconda3/envs/ml/lib/python3.9/site-packages (from altair>=4.2.0->gradio) (0.12.0)\n",
      "Requirement already satisfied: jsonschema>=3.0 in /home/lappy/anaconda3/envs/ml/lib/python3.9/site-packages (from altair>=4.2.0->gradio) (4.17.3)\n",
      "Requirement already satisfied: fsspec in /home/lappy/anaconda3/envs/ml/lib/python3.9/site-packages (from gradio-client>=0.2.6->gradio) (2023.6.0)\n",
      "Requirement already satisfied: packaging in /home/lappy/anaconda3/envs/ml/lib/python3.9/site-packages (from gradio-client>=0.2.6->gradio) (23.0)\n",
      "Requirement already satisfied: tqdm>=4.42.1 in /home/lappy/anaconda3/envs/ml/lib/python3.9/site-packages (from huggingface-hub>=0.14.0->gradio) (4.65.0)\n",
      "Requirement already satisfied: filelock in /home/lappy/anaconda3/envs/ml/lib/python3.9/site-packages (from huggingface-hub>=0.14.0->gradio) (3.12.1)\n",
      "Requirement already satisfied: mdurl~=0.1 in /home/lappy/anaconda3/envs/ml/lib/python3.9/site-packages (from markdown-it-py[linkify]>=2.0.0->gradio) (0.1.2)\n",
      "Requirement already satisfied: linkify-it-py<3,>=1 in /home/lappy/anaconda3/envs/ml/lib/python3.9/site-packages (from markdown-it-py[linkify]>=2.0.0->gradio) (2.0.2)\n",
      "Requirement already satisfied: pytz>=2020.1 in /home/lappy/anaconda3/envs/ml/lib/python3.9/site-packages (from pandas->gradio) (2022.7)\n",
      "Requirement already satisfied: python-dateutil>=2.8.2 in /home/lappy/anaconda3/envs/ml/lib/python3.9/site-packages (from pandas->gradio) (2.8.2)\n",
      "Requirement already satisfied: tzdata>=2022.1 in /home/lappy/anaconda3/envs/ml/lib/python3.9/site-packages (from pandas->gradio) (2023.3)\n",
      "Requirement already satisfied: h11>=0.8 in /home/lappy/anaconda3/envs/ml/lib/python3.9/site-packages (from uvicorn>=0.14.0->gradio) (0.14.0)\n",
      "Requirement already satisfied: click>=7.0 in /home/lappy/anaconda3/envs/ml/lib/python3.9/site-packages (from uvicorn>=0.14.0->gradio) (8.1.3)\n",
      "Requirement already satisfied: multidict<7.0,>=4.5 in /home/lappy/anaconda3/envs/ml/lib/python3.9/site-packages (from aiohttp->gradio) (6.0.4)\n",
      "Requirement already satisfied: async-timeout<5.0,>=4.0.0a3 in /home/lappy/anaconda3/envs/ml/lib/python3.9/site-packages (from aiohttp->gradio) (4.0.2)\n",
      "Requirement already satisfied: charset-normalizer<4.0,>=2.0 in /home/lappy/anaconda3/envs/ml/lib/python3.9/site-packages (from aiohttp->gradio) (2.0.4)\n",
      "Requirement already satisfied: yarl<2.0,>=1.0 in /home/lappy/anaconda3/envs/ml/lib/python3.9/site-packages (from aiohttp->gradio) (1.9.2)\n",
      "Requirement already satisfied: frozenlist>=1.1.1 in /home/lappy/anaconda3/envs/ml/lib/python3.9/site-packages (from aiohttp->gradio) (1.3.3)\n",
      "Requirement already satisfied: aiosignal>=1.1.2 in /home/lappy/anaconda3/envs/ml/lib/python3.9/site-packages (from aiohttp->gradio) (1.3.1)\n",
      "Requirement already satisfied: attrs>=17.3.0 in /home/lappy/anaconda3/envs/ml/lib/python3.9/site-packages (from aiohttp->gradio) (22.1.0)\n",
      "Requirement already satisfied: starlette<0.28.0,>=0.27.0 in /home/lappy/anaconda3/envs/ml/lib/python3.9/site-packages (from fastapi->gradio) (0.27.0)\n",
      "Requirement already satisfied: certifi in /home/lappy/anaconda3/envs/ml/lib/python3.9/site-packages (from httpx->gradio) (2023.5.7)\n",
      "Requirement already satisfied: sniffio in /home/lappy/anaconda3/envs/ml/lib/python3.9/site-packages (from httpx->gradio) (1.2.0)\n",
      "Requirement already satisfied: httpcore<0.18.0,>=0.15.0 in /home/lappy/anaconda3/envs/ml/lib/python3.9/site-packages (from httpx->gradio) (0.17.2)\n",
      "Requirement already satisfied: idna in /home/lappy/anaconda3/envs/ml/lib/python3.9/site-packages (from httpx->gradio) (3.4)\n",
      "Requirement already satisfied: kiwisolver>=1.0.1 in /home/lappy/anaconda3/envs/ml/lib/python3.9/site-packages (from matplotlib->gradio) (1.4.4)\n",
      "Requirement already satisfied: fonttools>=4.22.0 in /home/lappy/anaconda3/envs/ml/lib/python3.9/site-packages (from matplotlib->gradio) (4.39.4)\n",
      "Requirement already satisfied: pyparsing>=2.3.1 in /home/lappy/anaconda3/envs/ml/lib/python3.9/site-packages (from matplotlib->gradio) (3.0.9)\n",
      "Requirement already satisfied: importlib-resources>=3.2.0 in /home/lappy/anaconda3/envs/ml/lib/python3.9/site-packages (from matplotlib->gradio) (5.12.0)\n",
      "Requirement already satisfied: contourpy>=1.0.1 in /home/lappy/anaconda3/envs/ml/lib/python3.9/site-packages (from matplotlib->gradio) (1.0.7)\n",
      "Requirement already satisfied: cycler>=0.10 in /home/lappy/anaconda3/envs/ml/lib/python3.9/site-packages (from matplotlib->gradio) (0.11.0)\n",
      "Requirement already satisfied: urllib3<1.27,>=1.21.1 in /home/lappy/anaconda3/envs/ml/lib/python3.9/site-packages (from requests->gradio) (1.26.15)\n",
      "Requirement already satisfied: anyio<5.0,>=3.0 in /home/lappy/anaconda3/envs/ml/lib/python3.9/site-packages (from httpcore<0.18.0,>=0.15.0->httpx->gradio) (3.5.0)\n"
     ]
    },
    {
     "name": "stdout",
     "output_type": "stream",
     "text": [
      "Requirement already satisfied: zipp>=3.1.0 in /home/lappy/anaconda3/envs/ml/lib/python3.9/site-packages (from importlib-resources>=3.2.0->matplotlib->gradio) (3.11.0)\n",
      "Requirement already satisfied: pyrsistent!=0.17.0,!=0.17.1,!=0.17.2,>=0.14.0 in /home/lappy/anaconda3/envs/ml/lib/python3.9/site-packages (from jsonschema>=3.0->altair>=4.2.0->gradio) (0.18.0)\n",
      "Requirement already satisfied: uc-micro-py in /home/lappy/anaconda3/envs/ml/lib/python3.9/site-packages (from linkify-it-py<3,>=1->markdown-it-py[linkify]>=2.0.0->gradio) (1.0.2)\n",
      "Requirement already satisfied: six>=1.5 in /home/lappy/anaconda3/envs/ml/lib/python3.9/site-packages (from python-dateutil>=2.8.2->pandas->gradio) (1.16.0)\n"
     ]
    }
   ],
   "source": [
    "!pip install --upgrade gradio"
   ]
  },
  {
   "cell_type": "code",
   "execution_count": 60,
   "id": "ab622942",
   "metadata": {},
   "outputs": [
    {
     "name": "stdout",
     "output_type": "stream",
     "text": [
      "{\n",
      "  \"id\": \"chatcmpl-7QJcPfL2eb0HE9nj4dLUztrfQdXE4\",\n",
      "  \"object\": \"chat.completion\",\n",
      "  \"created\": 1686506297,\n",
      "  \"model\": \"gpt-3.5-turbo-0301\",\n",
      "  \"usage\": {\n",
      "    \"prompt_tokens\": 18,\n",
      "    \"completion_tokens\": 32,\n",
      "    \"total_tokens\": 50\n",
      "  },\n",
      "  \"choices\": [\n",
      "    {\n",
      "      \"message\": {\n",
      "        \"role\": \"assistant\",\n",
      "        \"content\": \"The height of K2, also known as Mount Godwin- Austen, is 8,611 meters (28,251 feet) above sea level.\"\n",
      "      },\n",
      "      \"finish_reason\": \"stop\",\n",
      "      \"index\": 0\n",
      "    }\n",
      "  ]\n",
      "}\n"
     ]
    }
   ],
   "source": [
    "completion = openai.ChatCompletion.create(model=\"gpt-3.5-turbo\",\n",
    "                                         messages=[{\"role\":\"user\", \"content\":\"what is the height of the k2 peak?\"}]\n",
    "                                         )\n",
    "\n",
    "print(completion)"
   ]
  },
  {
   "cell_type": "code",
   "execution_count": 37,
   "id": "1dadd857",
   "metadata": {},
   "outputs": [
    {
     "name": "stdout",
     "output_type": "stream",
     "text": [
      "The height of K2 peak is 8,611 meters or 28,251 feet.\n"
     ]
    }
   ],
   "source": [
    "reply_content = completion.choices[0].message.content\n",
    "print(reply_content)"
   ]
  },
  {
   "cell_type": "code",
   "execution_count": 39,
   "id": "b9ff5222",
   "metadata": {},
   "outputs": [
    {
     "name": "stdout",
     "output_type": "stream",
     "text": [
      ">>what is the height of the k2 peak?\n",
      "user's input was what is the height of the k2 peak?\n"
     ]
    }
   ],
   "source": [
    "message_history =[]\n",
    "user_input = input(\">>\")\n",
    "print(\"user's input was,\", user_input)"
   ]
  },
  {
   "cell_type": "code",
   "execution_count": 41,
   "id": "18d129c7",
   "metadata": {},
   "outputs": [],
   "source": [
    "message_history.append({\"role\":\"user\",\"content\":user_input})"
   ]
  },
  {
   "cell_type": "code",
   "execution_count": 44,
   "id": "1f0b7399",
   "metadata": {},
   "outputs": [
    {
     "name": "stdout",
     "output_type": "stream",
     "text": [
      "The height of K2 peak is approximately 28,251 feet (8,611 meters).\n"
     ]
    }
   ],
   "source": [
    "completion = openai.ChatCompletion.create(model=\"gpt-3.5-turbo\",\n",
    "                                         messages= message_history,)\n",
    "reply_content = completion.choices[0].message.content\n",
    "print(reply_content)"
   ]
  },
  {
   "cell_type": "code",
   "execution_count": 46,
   "id": "fa8b95e8",
   "metadata": {},
   "outputs": [],
   "source": [
    "message_history.append({\"role\":\"assistant\",\"content\":reply_content})"
   ]
  },
  {
   "cell_type": "code",
   "execution_count": 47,
   "id": "e9873d0f",
   "metadata": {},
   "outputs": [
    {
     "data": {
      "text/plain": [
       "[{'role': 'user', 'content': 'what is the height of the k2 peak?'},\n",
       " {'role': 'assistant',\n",
       "  'content': 'The height of K2 peak is approximately 28,251 feet (8,611 meters).'}]"
      ]
     },
     "execution_count": 47,
     "metadata": {},
     "output_type": "execute_result"
    }
   ],
   "source": [
    "message_history"
   ]
  },
  {
   "cell_type": "code",
   "execution_count": 48,
   "id": "f1fd050a",
   "metadata": {},
   "outputs": [
    {
     "name": "stdout",
     "output_type": "stream",
     "text": [
      ">>what is the height of the k2 peak?\n",
      "user's input was, what is the height of the k2 peak?\n",
      "The height of K2 peak is approximately 28,251 feet (8,611 meters).\n"
     ]
    }
   ],
   "source": [
    "user_input = input(\">>\")\n",
    "print(\"user's input was,\", user_input)\n",
    "message_history.append({\"role\":\"user\",\"content\":user_input})\n",
    "completion = openai.ChatCompletion.create(model=\"gpt-3.5-turbo\",\n",
    "                                         messages= message_history,)\n",
    "reply_content = completion.choices[0].message.content\n",
    "print(reply_content)\n"
   ]
  },
  {
   "cell_type": "code",
   "execution_count": 59,
   "id": "6513d35f",
   "metadata": {},
   "outputs": [
    {
     "name": "stdout",
     "output_type": "stream",
     "text": [
      ">>hi\n",
      "User's input was hi\n",
      "\n",
      "Hello! How can I assist you today?\n",
      "\n",
      ">>how Are u\n",
      "User's input was how Are u\n",
      "\n",
      "As an AI language model, I don't have feelings but I am programmed to assist and be a helpful resource. How can I help you today?\n",
      "\n"
     ]
    }
   ],
   "source": [
    "message_history = []\n",
    "\n",
    "def chat(inp,role=\"user\"):\n",
    "    message_history.append({\"role\":role,\"content\":inp})\n",
    "    \n",
    "    completion = openai.ChatCompletion.create(model=\"gpt-3.5-turbo\",\n",
    "                                         messages= message_history,)\n",
    "    \n",
    "    reply_content = completion.choices[0].message.content\n",
    "    print(reply_content)\n",
    "    message_history.append({\"role\":\"assistant\",\"content\":reply_content})\n",
    "    return reply_content\n",
    "\n",
    "for i in range(2):\n",
    "    user_input = input(\">>\")\n",
    "    print(\"User's input was\", user_input)\n",
    "    print()\n",
    "    chat(user_input)\n",
    "    print()\n",
    "    "
   ]
  },
  {
   "cell_type": "code",
   "execution_count": null,
   "id": "265fd136",
   "metadata": {},
   "outputs": [],
   "source": []
  }
 ],
 "metadata": {
  "kernelspec": {
   "display_name": "Python 3 (ipykernel)",
   "language": "python",
   "name": "python3"
  },
  "language_info": {
   "codemirror_mode": {
    "name": "ipython",
    "version": 3
   },
   "file_extension": ".py",
   "mimetype": "text/x-python",
   "name": "python",
   "nbconvert_exporter": "python",
   "pygments_lexer": "ipython3",
   "version": "3.9.16"
  }
 },
 "nbformat": 4,
 "nbformat_minor": 5
}
